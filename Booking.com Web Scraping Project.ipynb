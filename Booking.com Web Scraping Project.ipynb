{
 "cells": [
  {
   "cell_type": "code",
   "execution_count": 1,
   "id": "a1af1da8",
   "metadata": {},
   "outputs": [
    {
     "name": "stdout",
     "output_type": "stream",
     "text": [
      "200\n",
      "Data saved to hotel_data.csv\n"
     ]
    }
   ],
   "source": [
    "import requests\n",
    "from bs4 import BeautifulSoup\n",
    "import csv\n",
    "\n",
    "url = \"https://www.booking.com/searchresults.html?ss=Abu+Dhabi%2C+Abu+Dhabi+Emirate%2C+United+Arab+Emirates&ssne=Goa&ssne_untouched=Goa&label=gen173nr-1FCAQoggJCEXNlYXJjaF9nb2EsIGluZGlhSDFYBGjBAYgBAZgBMbgBF8gBD9gBAegBAfgBA4gCAagCA7gC6ObTrQbAAgHSAiRmZDRlNjcwYi01ZWJjLTQwYTQtODA0Yy1mZjljNGJiMmE1MDHYAgXgAgE&sid=900900eacc01153b57959f6e9726112d&aid=304142&lang=en-us&sb=1&src_elem=sb&src=index&dest_id=-782066&dest_type=city&ac_position=0&ac_click_type=b&ac_langcode=en&ac_suggestion_list_length=5&search_selected=true&search_pageview_id=3a8855faa81b0082&ac_meta=GhAzYTg4NTVmYWE4MWIwMDgyIAAoATICZW46BWFidSBkQABKAFAA&checkin=2024-06-14&checkout=2024-06-17&group_adults=2&no_rooms=1&group_children=0&selected_currency=AUD\"\n",
    "\n",
    "headers = {\"User-Agent\": \"Mozilla/5.0 (X11; Linux x86_64) AppleWebKit/537.36\"}\n",
    "\n",
    "response = requests.get(url, headers=headers)\n",
    "\n",
    "soup = BeautifulSoup(response.content, 'html.parser')\n",
    "\n",
    "print(response.status_code)\n",
    "\n",
    "hotel_results = []\n",
    "\n",
    "for el in soup.find_all(\"div\", {\"data-testid\": \"property-card\"}):\n",
    "    hotel_info = {\n",
    "        \"name\": el.find(\"div\", {\"data-testid\": \"title\"}).text.strip(),\n",
    "        \"link\": \"https://www.booking.com\" + el.find(\"a\", {\"data-testid\": \"title-link\"})[\"href\"],\n",
    "        \"location\": el.find(\"span\", {\"data-testid\": \"address\"}).text.strip(),\n",
    "        \"pricing\": el.find(\"span\", {\"data-testid\": \"price-and-discounted-price\"}).text.strip(),\n",
    "        \"rating\": el.find(\"div\", {\"data-testid\": \"review-score\"}).text.strip().split(\" \")[0],\n",
    "        \"review_count\": el.find(\"div\", {\"data-testid\": \"review-score\"}).text.strip().split(\" \")[1],\n",
    "        \"thumbnail\": el.find(\"img\", {\"data-testid\": \"image\"})['src'],\n",
    "    }\n",
    "    hotel_results.append(hotel_info)\n",
    "\n",
    "\n",
    "csv_file_path = \"hotel_data.csv\"\n",
    "\n",
    "with open(csv_file_path, 'w', newline='', encoding='utf-8') as csv_file:\n",
    "    fieldnames = [\"name\", \"link\", \"location\", \"pricing\", \"rating\", \"review_count\", \"thumbnail\"]\n",
    "    writer = csv.DictWriter(csv_file, fieldnames=fieldnames)\n",
    "    \n",
    "    \n",
    "    writer.writeheader()\n",
    "\n",
    "\n",
    "    for hotel_info in hotel_results:\n",
    "        writer.writerow(hotel_info)\n",
    "\n",
    "print(f\"Data saved to {csv_file_path}\")"
   ]
  },
  {
   "cell_type": "code",
   "execution_count": null,
   "id": "5e228e42",
   "metadata": {},
   "outputs": [],
   "source": []
  }
 ],
 "metadata": {
  "kernelspec": {
   "display_name": "Python 3 (ipykernel)",
   "language": "python",
   "name": "python3"
  },
  "language_info": {
   "codemirror_mode": {
    "name": "ipython",
    "version": 3
   },
   "file_extension": ".py",
   "mimetype": "text/x-python",
   "name": "python",
   "nbconvert_exporter": "python",
   "pygments_lexer": "ipython3",
   "version": "3.11.5"
  }
 },
 "nbformat": 4,
 "nbformat_minor": 5
}
